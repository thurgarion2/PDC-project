{
 "cells": [
  {
   "cell_type": "code",
   "execution_count": 1,
   "id": "84acbf62",
   "metadata": {},
   "outputs": [],
   "source": [
    "import ghw2_encoder as enc"
   ]
  },
  {
   "cell_type": "code",
   "execution_count": 2,
   "id": "cb55924d",
   "metadata": {},
   "outputs": [],
   "source": [
    "import pipline"
   ]
  },
  {
   "cell_type": "code",
   "execution_count": 6,
   "id": "6d753de7",
   "metadata": {},
   "outputs": [
    {
     "output_type": "stream",
     "name": "stdout",
     "text": [
      "85\n58982\n"
     ]
    }
   ],
   "source": [
    "encoder = enc.encoder()\n",
    "pipline.encode_file(\"./80_character.txt\",encoder)"
   ]
  },
  {
   "cell_type": "code",
   "execution_count": 5,
   "id": "642c43b8",
   "metadata": {},
   "outputs": [],
   "source": [
    "pipline.decode_file(\"./client/output.txt\",encoder)"
   ]
  },
  {
   "cell_type": "code",
   "execution_count": null,
   "id": "a5ace1e0",
   "metadata": {},
   "outputs": [],
   "source": [
    "python client.py --input_file ./../encoded.txt --output_file ./output.txt --srv_hostname iscsrv72.epfl.ch --srv_port 80"
   ]
  }
 ],
 "metadata": {
  "kernelspec": {
   "name": "python373jvsc74a57bd0cd210c25c0ab06c727dcc3989dfdd0ed277ffcbc63ef3bbd8fe3c71a9c687830",
   "display_name": "Python 3.7.3 64-bit ('base': conda)"
  },
  "language_info": {
   "codemirror_mode": {
    "name": "ipython",
    "version": 3
   },
   "file_extension": ".py",
   "mimetype": "text/x-python",
   "name": "python",
   "nbconvert_exporter": "python",
   "pygments_lexer": "ipython3",
   "version": "3.7.3"
  }
 },
 "nbformat": 4,
 "nbformat_minor": 5
}
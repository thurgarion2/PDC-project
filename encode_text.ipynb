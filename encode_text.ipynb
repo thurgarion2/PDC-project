{
 "cells": [
  {
   "cell_type": "code",
   "execution_count": 8,
   "id": "84acbf62",
   "metadata": {},
   "outputs": [],
   "source": [
    "import ghw2_encoder as enc"
   ]
  },
  {
   "cell_type": "code",
   "execution_count": 9,
   "id": "cb55924d",
   "metadata": {},
   "outputs": [],
   "source": [
    "import text_helpers"
   ]
  },
  {
   "cell_type": "code",
   "execution_count": 10,
   "id": "6d753de7",
   "metadata": {},
   "outputs": [
    {
     "output_type": "stream",
     "name": "stdout",
     "text": [
      "87\n59748\n59748\n"
     ]
    }
   ],
   "source": [
    "encoder = enc.encoder()\n",
    "text_helpers.encode_file(\"./text_files/80_character.txt\", \"./text_files/encoded.txt\",encoder)"
   ]
  },
  {
   "cell_type": "code",
   "execution_count": null,
   "metadata": {},
   "outputs": [],
   "source": [
    "python client.py --input_file ./text_files/encoded.txt --output_file ./text_files/output.txt --srv_hostname iscsrv72.epfl.ch --srv_port 80"
   ]
  },
  {
   "cell_type": "code",
   "execution_count": 11,
   "id": "642c43b8",
   "metadata": {},
   "outputs": [],
   "source": [
    "text_helpers.decode_file(\"./text_files/output.txt\",\"./text_files/decoded.txt\",encoder)"
   ]
  },
  {
   "cell_type": "code",
   "execution_count": null,
   "id": "a5ace1e0",
   "metadata": {},
   "outputs": [],
   "source": []
  }
 ],
 "metadata": {
  "kernelspec": {
   "name": "python373jvsc74a57bd0cd210c25c0ab06c727dcc3989dfdd0ed277ffcbc63ef3bbd8fe3c71a9c687830",
   "display_name": "Python 3.7.3 64-bit ('base': conda)"
  },
  "language_info": {
   "codemirror_mode": {
    "name": "ipython",
    "version": 3
   },
   "file_extension": ".py",
   "mimetype": "text/x-python",
   "name": "python",
   "nbconvert_exporter": "python",
   "pygments_lexer": "ipython3",
   "version": "3.7.3"
  }
 },
 "nbformat": 4,
 "nbformat_minor": 5
}
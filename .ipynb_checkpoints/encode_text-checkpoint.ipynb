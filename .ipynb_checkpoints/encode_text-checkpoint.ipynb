{
 "cells": [
  {
   "cell_type": "code",
   "execution_count": 2,
   "id": "4ba6a980",
   "metadata": {},
   "outputs": [],
   "source": [
    "import ghw2_encoder as encoder"
   ]
  },
  {
   "cell_type": "code",
   "execution_count": 3,
   "id": "593d8256",
   "metadata": {},
   "outputs": [],
   "source": [
    "import pipline"
   ]
  },
  {
   "cell_type": "code",
   "execution_count": 4,
   "id": "157214f1",
   "metadata": {},
   "outputs": [],
   "source": [
    "encoder = encoder.encoder(11)\n",
    "pipline.encode_file(\"./80_character.txt\",encoder)"
   ]
  },
  {
   "cell_type": "code",
   "execution_count": null,
   "id": "3a9d64c6",
   "metadata": {},
   "outputs": [],
   "source": [
    "python client.py --input_file ./../encoded.txt --output_file output.txt --srv_hostname iscsrv72.epfl.ch --srv_port 80"
   ]
  }
 ],
 "metadata": {
  "kernelspec": {
   "display_name": "Python 3",
   "language": "python",
   "name": "python3"
  },
  "language_info": {
   "codemirror_mode": {
    "name": "ipython",
    "version": 3
   },
   "file_extension": ".py",
   "mimetype": "text/x-python",
   "name": "python",
   "nbconvert_exporter": "python",
   "pygments_lexer": "ipython3",
   "version": "3.7.3"
  }
 },
 "nbformat": 4,
 "nbformat_minor": 5
}
